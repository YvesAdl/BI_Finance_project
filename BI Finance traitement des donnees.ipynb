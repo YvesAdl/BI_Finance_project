{
 "cells": [
  {
   "cell_type": "markdown",
   "metadata": {},
   "source": [
    "### Importation"
   ]
  },
  {
   "cell_type": "code",
   "execution_count": 169,
   "metadata": {},
   "outputs": [],
   "source": [
    "import pandas as pd\n",
    "import numpy as np\n",
    "\n",
    "data = pd.read_csv(\"actifs.csv\")"
   ]
  },
  {
   "cell_type": "code",
   "execution_count": 174,
   "metadata": {},
   "outputs": [
    {
     "data": {
      "text/html": [
       "<div>\n",
       "<style scoped>\n",
       "    .dataframe tbody tr th:only-of-type {\n",
       "        vertical-align: middle;\n",
       "    }\n",
       "\n",
       "    .dataframe tbody tr th {\n",
       "        vertical-align: top;\n",
       "    }\n",
       "\n",
       "    .dataframe thead th {\n",
       "        text-align: right;\n",
       "    }\n",
       "</style>\n",
       "<table border=\"1\" class=\"dataframe\">\n",
       "  <thead>\n",
       "    <tr style=\"text-align: right;\">\n",
       "      <th></th>\n",
       "      <th>Date</th>\n",
       "      <th>Name</th>\n",
       "      <th>Geographical_zone</th>\n",
       "      <th>Country</th>\n",
       "      <th>Sector</th>\n",
       "      <th>Industry</th>\n",
       "      <th>Value</th>\n",
       "    </tr>\n",
       "  </thead>\n",
       "  <tbody>\n",
       "    <tr>\n",
       "      <th>0</th>\n",
       "      <td>2014-03-12</td>\n",
       "      <td>Enel Americas SA</td>\n",
       "      <td>LATIN AMERICA</td>\n",
       "      <td>CHILE</td>\n",
       "      <td>Utilities</td>\n",
       "      <td>Electric Utilities</td>\n",
       "      <td>159.25</td>\n",
       "    </tr>\n",
       "    <tr>\n",
       "      <th>1</th>\n",
       "      <td>2014-03-12</td>\n",
       "      <td>INCITEC PIVOT LTD</td>\n",
       "      <td>ASIA/PACIFIC</td>\n",
       "      <td>AUSTRALIA</td>\n",
       "      <td>Materials</td>\n",
       "      <td>Chemicals</td>\n",
       "      <td>3.08</td>\n",
       "    </tr>\n",
       "    <tr>\n",
       "      <th>2</th>\n",
       "      <td>2014-03-12</td>\n",
       "      <td>ADVANCED INFO SERVICE PCL</td>\n",
       "      <td>ASIA/PACIFIC</td>\n",
       "      <td>THAILAND</td>\n",
       "      <td>Communication Services</td>\n",
       "      <td>Wireless Telecommunication Ser</td>\n",
       "      <td>210.00</td>\n",
       "    </tr>\n",
       "    <tr>\n",
       "      <th>3</th>\n",
       "      <td>2014-03-12</td>\n",
       "      <td>ELECOM CO LTD</td>\n",
       "      <td>ASIA/PACIFIC</td>\n",
       "      <td>JAPAN</td>\n",
       "      <td>Information Technology</td>\n",
       "      <td>Technology Hardware, Storage &amp;</td>\n",
       "      <td>1845.00</td>\n",
       "    </tr>\n",
       "    <tr>\n",
       "      <th>4</th>\n",
       "      <td>2014-03-12</td>\n",
       "      <td>Cleanaway Waste Management Ltd</td>\n",
       "      <td>ASIA/PACIFIC</td>\n",
       "      <td>AUSTRALIA</td>\n",
       "      <td>Industrials</td>\n",
       "      <td>Commercial Services &amp; Supplies</td>\n",
       "      <td>1.17</td>\n",
       "    </tr>\n",
       "  </tbody>\n",
       "</table>\n",
       "</div>"
      ],
      "text/plain": [
       "         Date                            Name Geographical_zone    Country  \\\n",
       "0  2014-03-12                Enel Americas SA     LATIN AMERICA      CHILE   \n",
       "1  2014-03-12               INCITEC PIVOT LTD      ASIA/PACIFIC  AUSTRALIA   \n",
       "2  2014-03-12       ADVANCED INFO SERVICE PCL      ASIA/PACIFIC   THAILAND   \n",
       "3  2014-03-12                   ELECOM CO LTD      ASIA/PACIFIC      JAPAN   \n",
       "4  2014-03-12  Cleanaway Waste Management Ltd      ASIA/PACIFIC  AUSTRALIA   \n",
       "\n",
       "                   Sector                        Industry    Value  \n",
       "0               Utilities              Electric Utilities   159.25  \n",
       "1               Materials                       Chemicals     3.08  \n",
       "2  Communication Services  Wireless Telecommunication Ser   210.00  \n",
       "3  Information Technology  Technology Hardware, Storage &  1845.00  \n",
       "4             Industrials  Commercial Services & Supplies     1.17  "
      ]
     },
     "execution_count": 174,
     "metadata": {},
     "output_type": "execute_result"
    }
   ],
   "source": [
    "data = data.sort_values('Date').reset_index(drop=True)\n",
    "data.head()"
   ]
  },
  {
   "cell_type": "markdown",
   "metadata": {},
   "source": [
    "### Mise en place du pivot"
   ]
  },
  {
   "cell_type": "code",
   "execution_count": 18,
   "metadata": {
    "scrolled": true
   },
   "outputs": [],
   "source": [
    "dfpivot = data.pivot_table(index='Date', columns='Name', values='Value')"
   ]
  },
  {
   "cell_type": "code",
   "execution_count": 19,
   "metadata": {},
   "outputs": [
    {
     "data": {
      "text/html": [
       "<div>\n",
       "<style scoped>\n",
       "    .dataframe tbody tr th:only-of-type {\n",
       "        vertical-align: middle;\n",
       "    }\n",
       "\n",
       "    .dataframe tbody tr th {\n",
       "        vertical-align: top;\n",
       "    }\n",
       "\n",
       "    .dataframe thead th {\n",
       "        text-align: right;\n",
       "    }\n",
       "</style>\n",
       "<table border=\"1\" class=\"dataframe\">\n",
       "  <thead>\n",
       "    <tr style=\"text-align: right;\">\n",
       "      <th>Name</th>\n",
       "      <th>3I GROUP PLC</th>\n",
       "      <th>3M CO</th>\n",
       "      <th>58.COM INC-ADR</th>\n",
       "      <th>A2A SpA</th>\n",
       "      <th>AAC Technologies Holdings Inc</th>\n",
       "      <th>ABACUS PROPERTY GROUP</th>\n",
       "      <th>ABB LTD-REG</th>\n",
       "      <th>ABBOTT LABORATORIES</th>\n",
       "      <th>ABBVIE INC</th>\n",
       "      <th>ABC-MART INC</th>\n",
       "      <th>...</th>\n",
       "      <th>ZILLOW GROUP INC - C</th>\n",
       "      <th>ZIONS BANCORPORATION</th>\n",
       "      <th>ZOETIS INC</th>\n",
       "      <th>ZTO EXPRESS CAYMAN INC-ADR</th>\n",
       "      <th>Zee Entertainment Enterprises</th>\n",
       "      <th>Zensho Holdings Co Ltd</th>\n",
       "      <th>Zimmer Biomet Holdings Inc</th>\n",
       "      <th>Zurich Insurance Group AG</th>\n",
       "      <th>a2 Milk Co Ltd</th>\n",
       "      <th>kyowa Hakko Kirin Co Ltd</th>\n",
       "    </tr>\n",
       "    <tr>\n",
       "      <th>Date</th>\n",
       "      <th></th>\n",
       "      <th></th>\n",
       "      <th></th>\n",
       "      <th></th>\n",
       "      <th></th>\n",
       "      <th></th>\n",
       "      <th></th>\n",
       "      <th></th>\n",
       "      <th></th>\n",
       "      <th></th>\n",
       "      <th></th>\n",
       "      <th></th>\n",
       "      <th></th>\n",
       "      <th></th>\n",
       "      <th></th>\n",
       "      <th></th>\n",
       "      <th></th>\n",
       "      <th></th>\n",
       "      <th></th>\n",
       "      <th></th>\n",
       "      <th></th>\n",
       "    </tr>\n",
       "  </thead>\n",
       "  <tbody>\n",
       "    <tr>\n",
       "      <th>2014-03-12</th>\n",
       "      <td>4.097</td>\n",
       "      <td>NaN</td>\n",
       "      <td>NaN</td>\n",
       "      <td>1.002</td>\n",
       "      <td>33.50</td>\n",
       "      <td>2.33</td>\n",
       "      <td>22.24</td>\n",
       "      <td>NaN</td>\n",
       "      <td>NaN</td>\n",
       "      <td>4385.0</td>\n",
       "      <td>...</td>\n",
       "      <td>NaN</td>\n",
       "      <td>NaN</td>\n",
       "      <td>NaN</td>\n",
       "      <td>NaN</td>\n",
       "      <td>NaN</td>\n",
       "      <td>1057.0</td>\n",
       "      <td>NaN</td>\n",
       "      <td>266.8</td>\n",
       "      <td>NaN</td>\n",
       "      <td>1069.0</td>\n",
       "    </tr>\n",
       "    <tr>\n",
       "      <th>2014-03-13</th>\n",
       "      <td>4.044</td>\n",
       "      <td>NaN</td>\n",
       "      <td>NaN</td>\n",
       "      <td>1.000</td>\n",
       "      <td>33.60</td>\n",
       "      <td>2.35</td>\n",
       "      <td>21.87</td>\n",
       "      <td>NaN</td>\n",
       "      <td>NaN</td>\n",
       "      <td>4385.0</td>\n",
       "      <td>...</td>\n",
       "      <td>NaN</td>\n",
       "      <td>NaN</td>\n",
       "      <td>NaN</td>\n",
       "      <td>NaN</td>\n",
       "      <td>NaN</td>\n",
       "      <td>1006.0</td>\n",
       "      <td>NaN</td>\n",
       "      <td>264.8</td>\n",
       "      <td>NaN</td>\n",
       "      <td>1068.0</td>\n",
       "    </tr>\n",
       "    <tr>\n",
       "      <th>2014-03-14</th>\n",
       "      <td>4.009</td>\n",
       "      <td>NaN</td>\n",
       "      <td>NaN</td>\n",
       "      <td>0.961</td>\n",
       "      <td>32.15</td>\n",
       "      <td>2.32</td>\n",
       "      <td>21.52</td>\n",
       "      <td>NaN</td>\n",
       "      <td>NaN</td>\n",
       "      <td>4260.0</td>\n",
       "      <td>...</td>\n",
       "      <td>NaN</td>\n",
       "      <td>NaN</td>\n",
       "      <td>NaN</td>\n",
       "      <td>NaN</td>\n",
       "      <td>NaN</td>\n",
       "      <td>999.0</td>\n",
       "      <td>NaN</td>\n",
       "      <td>261.9</td>\n",
       "      <td>NaN</td>\n",
       "      <td>1023.0</td>\n",
       "    </tr>\n",
       "    <tr>\n",
       "      <th>2014-03-17</th>\n",
       "      <td>4.035</td>\n",
       "      <td>NaN</td>\n",
       "      <td>NaN</td>\n",
       "      <td>1.029</td>\n",
       "      <td>32.70</td>\n",
       "      <td>2.33</td>\n",
       "      <td>21.86</td>\n",
       "      <td>NaN</td>\n",
       "      <td>NaN</td>\n",
       "      <td>4230.0</td>\n",
       "      <td>...</td>\n",
       "      <td>NaN</td>\n",
       "      <td>NaN</td>\n",
       "      <td>NaN</td>\n",
       "      <td>NaN</td>\n",
       "      <td>NaN</td>\n",
       "      <td>999.0</td>\n",
       "      <td>NaN</td>\n",
       "      <td>262.5</td>\n",
       "      <td>NaN</td>\n",
       "      <td>1013.0</td>\n",
       "    </tr>\n",
       "    <tr>\n",
       "      <th>2014-03-18</th>\n",
       "      <td>4.018</td>\n",
       "      <td>NaN</td>\n",
       "      <td>NaN</td>\n",
       "      <td>1.000</td>\n",
       "      <td>32.75</td>\n",
       "      <td>2.30</td>\n",
       "      <td>22.07</td>\n",
       "      <td>NaN</td>\n",
       "      <td>NaN</td>\n",
       "      <td>4295.0</td>\n",
       "      <td>...</td>\n",
       "      <td>NaN</td>\n",
       "      <td>NaN</td>\n",
       "      <td>NaN</td>\n",
       "      <td>NaN</td>\n",
       "      <td>NaN</td>\n",
       "      <td>1003.0</td>\n",
       "      <td>NaN</td>\n",
       "      <td>263.5</td>\n",
       "      <td>NaN</td>\n",
       "      <td>1024.0</td>\n",
       "    </tr>\n",
       "  </tbody>\n",
       "</table>\n",
       "<p>5 rows × 2529 columns</p>\n",
       "</div>"
      ],
      "text/plain": [
       "Name        3I GROUP PLC  3M CO  58.COM INC-ADR  A2A SpA  \\\n",
       "Date                                                       \n",
       "2014-03-12         4.097    NaN             NaN    1.002   \n",
       "2014-03-13         4.044    NaN             NaN    1.000   \n",
       "2014-03-14         4.009    NaN             NaN    0.961   \n",
       "2014-03-17         4.035    NaN             NaN    1.029   \n",
       "2014-03-18         4.018    NaN             NaN    1.000   \n",
       "\n",
       "Name        AAC Technologies Holdings Inc  ABACUS PROPERTY GROUP  ABB LTD-REG  \\\n",
       "Date                                                                            \n",
       "2014-03-12                          33.50                   2.33        22.24   \n",
       "2014-03-13                          33.60                   2.35        21.87   \n",
       "2014-03-14                          32.15                   2.32        21.52   \n",
       "2014-03-17                          32.70                   2.33        21.86   \n",
       "2014-03-18                          32.75                   2.30        22.07   \n",
       "\n",
       "Name        ABBOTT LABORATORIES  ABBVIE INC  ABC-MART INC  ...  \\\n",
       "Date                                                       ...   \n",
       "2014-03-12                  NaN         NaN        4385.0  ...   \n",
       "2014-03-13                  NaN         NaN        4385.0  ...   \n",
       "2014-03-14                  NaN         NaN        4260.0  ...   \n",
       "2014-03-17                  NaN         NaN        4230.0  ...   \n",
       "2014-03-18                  NaN         NaN        4295.0  ...   \n",
       "\n",
       "Name        ZILLOW GROUP INC - C  ZIONS BANCORPORATION  ZOETIS INC  \\\n",
       "Date                                                                 \n",
       "2014-03-12                   NaN                   NaN         NaN   \n",
       "2014-03-13                   NaN                   NaN         NaN   \n",
       "2014-03-14                   NaN                   NaN         NaN   \n",
       "2014-03-17                   NaN                   NaN         NaN   \n",
       "2014-03-18                   NaN                   NaN         NaN   \n",
       "\n",
       "Name        ZTO EXPRESS CAYMAN INC-ADR  Zee Entertainment Enterprises  \\\n",
       "Date                                                                    \n",
       "2014-03-12                         NaN                            NaN   \n",
       "2014-03-13                         NaN                            NaN   \n",
       "2014-03-14                         NaN                            NaN   \n",
       "2014-03-17                         NaN                            NaN   \n",
       "2014-03-18                         NaN                            NaN   \n",
       "\n",
       "Name        Zensho Holdings Co Ltd  Zimmer Biomet Holdings Inc  \\\n",
       "Date                                                             \n",
       "2014-03-12                  1057.0                         NaN   \n",
       "2014-03-13                  1006.0                         NaN   \n",
       "2014-03-14                   999.0                         NaN   \n",
       "2014-03-17                   999.0                         NaN   \n",
       "2014-03-18                  1003.0                         NaN   \n",
       "\n",
       "Name        Zurich Insurance Group AG  a2 Milk Co Ltd  \\\n",
       "Date                                                    \n",
       "2014-03-12                      266.8             NaN   \n",
       "2014-03-13                      264.8             NaN   \n",
       "2014-03-14                      261.9             NaN   \n",
       "2014-03-17                      262.5             NaN   \n",
       "2014-03-18                      263.5             NaN   \n",
       "\n",
       "Name        kyowa Hakko Kirin Co Ltd  \n",
       "Date                                  \n",
       "2014-03-12                    1069.0  \n",
       "2014-03-13                    1068.0  \n",
       "2014-03-14                    1023.0  \n",
       "2014-03-17                    1013.0  \n",
       "2014-03-18                    1024.0  \n",
       "\n",
       "[5 rows x 2529 columns]"
      ]
     },
     "execution_count": 19,
     "metadata": {},
     "output_type": "execute_result"
    }
   ],
   "source": [
    "dfpivot.head()"
   ]
  },
  {
   "cell_type": "markdown",
   "metadata": {},
   "source": [
    "### Etude du nombre de NA"
   ]
  },
  {
   "cell_type": "code",
   "execution_count": 107,
   "metadata": {},
   "outputs": [
    {
     "data": {
      "text/plain": [
       "Name\n",
       "3I GROUP PLC                     199\n",
       "3M CO                            195\n",
       "58.COM INC-ADR                   592\n",
       "A2A SpA                          221\n",
       "AAC Technologies Holdings Inc    216\n",
       "                                ... \n",
       "Zensho Holdings Co Ltd           217\n",
       "Zimmer Biomet Holdings Inc       231\n",
       "Zurich Insurance Group AG        198\n",
       "a2 Milk Co Ltd                   468\n",
       "kyowa Hakko Kirin Co Ltd         213\n",
       "Length: 2529, dtype: int64"
      ]
     },
     "execution_count": 107,
     "metadata": {},
     "output_type": "execute_result"
    }
   ],
   "source": [
    "dfpivot.isna().sum()"
   ]
  },
  {
   "cell_type": "code",
   "execution_count": 91,
   "metadata": {
    "scrolled": true
   },
   "outputs": [
    {
     "data": {
      "text/plain": [
       "<matplotlib.axes._subplots.AxesSubplot at 0x269845d0700>"
      ]
     },
     "execution_count": 91,
     "metadata": {},
     "output_type": "execute_result"
    },
    {
     "data": {
      "image/png": "[encoded data removed]",
      "text/plain": [
       "<Figure size 432x288 with 1 Axes>"
      ]
     },
     "metadata": {
      "needs_background": "light"
     },
     "output_type": "display_data"
    }
   ],
   "source": [
    "dfpivot.isna().sum().plot.hist(bins=100)"
   ]
  },
  {
   "cell_type": "markdown",
   "metadata": {},
   "source": [
    "### OBJECTIF : éliminer les colonnes ayant plus d'un certain nombre de NaN consécutifs"
   ]
  },
  {
   "cell_type": "markdown",
   "metadata": {},
   "source": [
    "Explication : l'idée est de faire une somme cummulative des na/non_naet de voir le nombre de jour où ce compte n'évolue pas.\n",
    "\n",
    "Ci-dessous, la première ligne signifie que pendant 61 jours, le nombre de na est resté à 137."
   ]
  },
  {
   "cell_type": "code",
   "execution_count": 103,
   "metadata": {
    "scrolled": true
   },
   "outputs": [
    {
     "data": {
      "text/plain": [
       "137    61\n",
       "45     45\n",
       "64     41\n",
       "50     35\n",
       "56     30\n",
       "       ..\n",
       "37      1\n",
       "35      1\n",
       "33      1\n",
       "31      1\n",
       "32      1\n",
       "Name: 3I GROUP PLC, Length: 200, dtype: int64"
      ]
     },
     "execution_count": 103,
     "metadata": {},
     "output_type": "execute_result"
    }
   ],
   "source": [
    "dfpivot['3I GROUP PLC'].isna().cumsum().value_counts()"
   ]
  },
  {
   "cell_type": "markdown",
   "metadata": {},
   "source": [
    "Dans ce 2e cas : pendant 12 jours, on a rencontré des que des NaN"
   ]
  },
  {
   "cell_type": "code",
   "execution_count": 105,
   "metadata": {
    "scrolled": true
   },
   "outputs": [
    {
     "data": {
      "text/plain": [
       "81     12\n",
       "83      5\n",
       "105     4\n",
       "162     4\n",
       "927     4\n",
       "       ..\n",
       "801     1\n",
       "802     1\n",
       "803     1\n",
       "804     1\n",
       "1       1\n",
       "Name: 3I GROUP PLC, Length: 1243, dtype: int64"
      ]
     },
     "execution_count": 105,
     "metadata": {},
     "output_type": "execute_result"
    }
   ],
   "source": [
    "dfpivot['3I GROUP PLC'].notna().cumsum().value_counts()"
   ]
  },
  {
   "cell_type": "markdown",
   "metadata": {},
   "source": [
    "On les localise"
   ]
  },
  {
   "cell_type": "code",
   "execution_count": 114,
   "metadata": {},
   "outputs": [
    {
     "data": {
      "text/plain": [
       "Date\n",
       "2014-08-01    3.732\n",
       "2014-08-04      NaN\n",
       "2014-08-05      NaN\n",
       "2014-08-06      NaN\n",
       "2014-08-07      NaN\n",
       "2014-08-08      NaN\n",
       "2014-08-11      NaN\n",
       "2014-08-12      NaN\n",
       "2014-08-13      NaN\n",
       "2014-08-14      NaN\n",
       "2014-08-15      NaN\n",
       "2014-08-18      NaN\n",
       "Name: 3I GROUP PLC, dtype: float64"
      ]
     },
     "execution_count": 114,
     "metadata": {},
     "output_type": "execute_result"
    }
   ],
   "source": [
    "dfpivot[dfpivot['3I GROUP PLC'].notna().cumsum()==81]['3I GROUP PLC']"
   ]
  },
  {
   "cell_type": "markdown",
   "metadata": {},
   "source": [
    "### Application"
   ]
  },
  {
   "cell_type": "code",
   "execution_count": 115,
   "metadata": {
    "scrolled": false
   },
   "outputs": [
    {
     "data": {
      "text/html": [
       "<div>\n",
       "<style scoped>\n",
       "    .dataframe tbody tr th:only-of-type {\n",
       "        vertical-align: middle;\n",
       "    }\n",
       "\n",
       "    .dataframe tbody tr th {\n",
       "        vertical-align: top;\n",
       "    }\n",
       "\n",
       "    .dataframe thead th {\n",
       "        text-align: right;\n",
       "    }\n",
       "</style>\n",
       "<table border=\"1\" class=\"dataframe\">\n",
       "  <thead>\n",
       "    <tr style=\"text-align: right;\">\n",
       "      <th>Name</th>\n",
       "      <th>3I GROUP PLC</th>\n",
       "      <th>3M CO</th>\n",
       "      <th>A2A SpA</th>\n",
       "      <th>AAC Technologies Holdings Inc</th>\n",
       "      <th>ABACUS PROPERTY GROUP</th>\n",
       "      <th>ABB LTD-REG</th>\n",
       "      <th>ABBOTT LABORATORIES</th>\n",
       "      <th>ABBVIE INC</th>\n",
       "      <th>ABC-MART INC</th>\n",
       "      <th>ABERCROMBIE &amp; FITCH CO-CL A</th>\n",
       "      <th>...</th>\n",
       "      <th>Yamato Holdings Co Ltd</th>\n",
       "      <th>Yuanta Financial Holding Co Lt</th>\n",
       "      <th>ZENKOKU HOSHO CO LTD</th>\n",
       "      <th>ZEON CORP</th>\n",
       "      <th>ZIONS BANCORPORATION</th>\n",
       "      <th>ZOETIS INC</th>\n",
       "      <th>Zensho Holdings Co Ltd</th>\n",
       "      <th>Zimmer Biomet Holdings Inc</th>\n",
       "      <th>Zurich Insurance Group AG</th>\n",
       "      <th>kyowa Hakko Kirin Co Ltd</th>\n",
       "    </tr>\n",
       "    <tr>\n",
       "      <th>Date</th>\n",
       "      <th></th>\n",
       "      <th></th>\n",
       "      <th></th>\n",
       "      <th></th>\n",
       "      <th></th>\n",
       "      <th></th>\n",
       "      <th></th>\n",
       "      <th></th>\n",
       "      <th></th>\n",
       "      <th></th>\n",
       "      <th></th>\n",
       "      <th></th>\n",
       "      <th></th>\n",
       "      <th></th>\n",
       "      <th></th>\n",
       "      <th></th>\n",
       "      <th></th>\n",
       "      <th></th>\n",
       "      <th></th>\n",
       "      <th></th>\n",
       "      <th></th>\n",
       "    </tr>\n",
       "  </thead>\n",
       "  <tbody>\n",
       "    <tr>\n",
       "      <th>2014-03-12</th>\n",
       "      <td>4.097</td>\n",
       "      <td>NaN</td>\n",
       "      <td>1.002</td>\n",
       "      <td>33.50</td>\n",
       "      <td>2.33</td>\n",
       "      <td>22.240</td>\n",
       "      <td>NaN</td>\n",
       "      <td>NaN</td>\n",
       "      <td>4385.0</td>\n",
       "      <td>NaN</td>\n",
       "      <td>...</td>\n",
       "      <td>2187.0</td>\n",
       "      <td>15.25</td>\n",
       "      <td>2470.0</td>\n",
       "      <td>957.0</td>\n",
       "      <td>NaN</td>\n",
       "      <td>NaN</td>\n",
       "      <td>1057.0</td>\n",
       "      <td>NaN</td>\n",
       "      <td>266.8</td>\n",
       "      <td>1069.0</td>\n",
       "    </tr>\n",
       "    <tr>\n",
       "      <th>2014-03-13</th>\n",
       "      <td>4.044</td>\n",
       "      <td>NaN</td>\n",
       "      <td>1.000</td>\n",
       "      <td>33.60</td>\n",
       "      <td>2.35</td>\n",
       "      <td>21.870</td>\n",
       "      <td>NaN</td>\n",
       "      <td>NaN</td>\n",
       "      <td>4385.0</td>\n",
       "      <td>NaN</td>\n",
       "      <td>...</td>\n",
       "      <td>2150.0</td>\n",
       "      <td>15.30</td>\n",
       "      <td>2408.0</td>\n",
       "      <td>954.0</td>\n",
       "      <td>NaN</td>\n",
       "      <td>NaN</td>\n",
       "      <td>1006.0</td>\n",
       "      <td>NaN</td>\n",
       "      <td>264.8</td>\n",
       "      <td>1068.0</td>\n",
       "    </tr>\n",
       "    <tr>\n",
       "      <th>2014-03-14</th>\n",
       "      <td>4.009</td>\n",
       "      <td>NaN</td>\n",
       "      <td>0.961</td>\n",
       "      <td>32.15</td>\n",
       "      <td>2.32</td>\n",
       "      <td>21.520</td>\n",
       "      <td>NaN</td>\n",
       "      <td>NaN</td>\n",
       "      <td>4260.0</td>\n",
       "      <td>NaN</td>\n",
       "      <td>...</td>\n",
       "      <td>2083.0</td>\n",
       "      <td>15.15</td>\n",
       "      <td>2353.0</td>\n",
       "      <td>920.0</td>\n",
       "      <td>NaN</td>\n",
       "      <td>NaN</td>\n",
       "      <td>999.0</td>\n",
       "      <td>NaN</td>\n",
       "      <td>261.9</td>\n",
       "      <td>1023.0</td>\n",
       "    </tr>\n",
       "    <tr>\n",
       "      <th>2014-03-17</th>\n",
       "      <td>4.035</td>\n",
       "      <td>NaN</td>\n",
       "      <td>1.029</td>\n",
       "      <td>32.70</td>\n",
       "      <td>2.33</td>\n",
       "      <td>21.860</td>\n",
       "      <td>NaN</td>\n",
       "      <td>NaN</td>\n",
       "      <td>4230.0</td>\n",
       "      <td>NaN</td>\n",
       "      <td>...</td>\n",
       "      <td>2065.0</td>\n",
       "      <td>15.00</td>\n",
       "      <td>2414.0</td>\n",
       "      <td>901.0</td>\n",
       "      <td>NaN</td>\n",
       "      <td>NaN</td>\n",
       "      <td>999.0</td>\n",
       "      <td>NaN</td>\n",
       "      <td>262.5</td>\n",
       "      <td>1013.0</td>\n",
       "    </tr>\n",
       "    <tr>\n",
       "      <th>2014-03-18</th>\n",
       "      <td>4.018</td>\n",
       "      <td>NaN</td>\n",
       "      <td>1.000</td>\n",
       "      <td>32.75</td>\n",
       "      <td>2.30</td>\n",
       "      <td>22.070</td>\n",
       "      <td>NaN</td>\n",
       "      <td>NaN</td>\n",
       "      <td>4295.0</td>\n",
       "      <td>NaN</td>\n",
       "      <td>...</td>\n",
       "      <td>2060.0</td>\n",
       "      <td>15.65</td>\n",
       "      <td>2546.0</td>\n",
       "      <td>912.0</td>\n",
       "      <td>NaN</td>\n",
       "      <td>NaN</td>\n",
       "      <td>1003.0</td>\n",
       "      <td>NaN</td>\n",
       "      <td>263.5</td>\n",
       "      <td>1024.0</td>\n",
       "    </tr>\n",
       "    <tr>\n",
       "      <th>...</th>\n",
       "      <td>...</td>\n",
       "      <td>...</td>\n",
       "      <td>...</td>\n",
       "      <td>...</td>\n",
       "      <td>...</td>\n",
       "      <td>...</td>\n",
       "      <td>...</td>\n",
       "      <td>...</td>\n",
       "      <td>...</td>\n",
       "      <td>...</td>\n",
       "      <td>...</td>\n",
       "      <td>...</td>\n",
       "      <td>...</td>\n",
       "      <td>...</td>\n",
       "      <td>...</td>\n",
       "      <td>...</td>\n",
       "      <td>...</td>\n",
       "      <td>...</td>\n",
       "      <td>...</td>\n",
       "      <td>...</td>\n",
       "      <td>...</td>\n",
       "    </tr>\n",
       "    <tr>\n",
       "      <th>2019-03-07</th>\n",
       "      <td>9.576</td>\n",
       "      <td>199.86</td>\n",
       "      <td>1.605</td>\n",
       "      <td>49.40</td>\n",
       "      <td>3.70</td>\n",
       "      <td>19.105</td>\n",
       "      <td>76.80</td>\n",
       "      <td>78.24</td>\n",
       "      <td>6570.0</td>\n",
       "      <td>9.87</td>\n",
       "      <td>...</td>\n",
       "      <td>2949.0</td>\n",
       "      <td>17.60</td>\n",
       "      <td>4165.0</td>\n",
       "      <td>1135.0</td>\n",
       "      <td>100.35</td>\n",
       "      <td>96.27</td>\n",
       "      <td>2669.0</td>\n",
       "      <td>170.37</td>\n",
       "      <td>326.4</td>\n",
       "      <td>2274.0</td>\n",
       "    </tr>\n",
       "    <tr>\n",
       "      <th>2019-03-08</th>\n",
       "      <td>9.422</td>\n",
       "      <td>200.89</td>\n",
       "      <td>1.609</td>\n",
       "      <td>47.60</td>\n",
       "      <td>3.69</td>\n",
       "      <td>18.895</td>\n",
       "      <td>76.63</td>\n",
       "      <td>77.58</td>\n",
       "      <td>6490.0</td>\n",
       "      <td>9.42</td>\n",
       "      <td>...</td>\n",
       "      <td>2908.0</td>\n",
       "      <td>17.40</td>\n",
       "      <td>4085.0</td>\n",
       "      <td>1080.0</td>\n",
       "      <td>99.96</td>\n",
       "      <td>96.84</td>\n",
       "      <td>2642.0</td>\n",
       "      <td>169.03</td>\n",
       "      <td>325.8</td>\n",
       "      <td>2255.0</td>\n",
       "    </tr>\n",
       "    <tr>\n",
       "      <th>2019-03-10</th>\n",
       "      <td>NaN</td>\n",
       "      <td>NaN</td>\n",
       "      <td>NaN</td>\n",
       "      <td>NaN</td>\n",
       "      <td>NaN</td>\n",
       "      <td>NaN</td>\n",
       "      <td>NaN</td>\n",
       "      <td>NaN</td>\n",
       "      <td>NaN</td>\n",
       "      <td>NaN</td>\n",
       "      <td>...</td>\n",
       "      <td>NaN</td>\n",
       "      <td>NaN</td>\n",
       "      <td>NaN</td>\n",
       "      <td>NaN</td>\n",
       "      <td>NaN</td>\n",
       "      <td>NaN</td>\n",
       "      <td>NaN</td>\n",
       "      <td>NaN</td>\n",
       "      <td>NaN</td>\n",
       "      <td>NaN</td>\n",
       "    </tr>\n",
       "    <tr>\n",
       "      <th>2019-03-11</th>\n",
       "      <td>9.564</td>\n",
       "      <td>207.10</td>\n",
       "      <td>1.610</td>\n",
       "      <td>47.25</td>\n",
       "      <td>3.66</td>\n",
       "      <td>19.135</td>\n",
       "      <td>77.81</td>\n",
       "      <td>78.08</td>\n",
       "      <td>6510.0</td>\n",
       "      <td>9.89</td>\n",
       "      <td>...</td>\n",
       "      <td>2949.0</td>\n",
       "      <td>17.45</td>\n",
       "      <td>4115.0</td>\n",
       "      <td>1092.0</td>\n",
       "      <td>100.82</td>\n",
       "      <td>99.09</td>\n",
       "      <td>2647.0</td>\n",
       "      <td>172.09</td>\n",
       "      <td>327.1</td>\n",
       "      <td>2262.0</td>\n",
       "    </tr>\n",
       "    <tr>\n",
       "      <th>2019-03-12</th>\n",
       "      <td>9.592</td>\n",
       "      <td>205.80</td>\n",
       "      <td>1.600</td>\n",
       "      <td>47.95</td>\n",
       "      <td>3.65</td>\n",
       "      <td>19.115</td>\n",
       "      <td>78.24</td>\n",
       "      <td>78.74</td>\n",
       "      <td>6550.0</td>\n",
       "      <td>10.32</td>\n",
       "      <td>...</td>\n",
       "      <td>2973.0</td>\n",
       "      <td>17.65</td>\n",
       "      <td>4165.0</td>\n",
       "      <td>1131.0</td>\n",
       "      <td>101.01</td>\n",
       "      <td>100.43</td>\n",
       "      <td>2649.0</td>\n",
       "      <td>171.05</td>\n",
       "      <td>327.5</td>\n",
       "      <td>2291.0</td>\n",
       "    </tr>\n",
       "  </tbody>\n",
       "</table>\n",
       "<p>1442 rows × 2013 columns</p>\n",
       "</div>"
      ],
      "text/plain": [
       "Name        3I GROUP PLC   3M CO  A2A SpA  AAC Technologies Holdings Inc  \\\n",
       "Date                                                                       \n",
       "2014-03-12         4.097     NaN    1.002                          33.50   \n",
       "2014-03-13         4.044     NaN    1.000                          33.60   \n",
       "2014-03-14         4.009     NaN    0.961                          32.15   \n",
       "2014-03-17         4.035     NaN    1.029                          32.70   \n",
       "2014-03-18         4.018     NaN    1.000                          32.75   \n",
       "...                  ...     ...      ...                            ...   \n",
       "2019-03-07         9.576  199.86    1.605                          49.40   \n",
       "2019-03-08         9.422  200.89    1.609                          47.60   \n",
       "2019-03-10           NaN     NaN      NaN                            NaN   \n",
       "2019-03-11         9.564  207.10    1.610                          47.25   \n",
       "2019-03-12         9.592  205.80    1.600                          47.95   \n",
       "\n",
       "Name        ABACUS PROPERTY GROUP  ABB LTD-REG  ABBOTT LABORATORIES  \\\n",
       "Date                                                                  \n",
       "2014-03-12                   2.33       22.240                  NaN   \n",
       "2014-03-13                   2.35       21.870                  NaN   \n",
       "2014-03-14                   2.32       21.520                  NaN   \n",
       "2014-03-17                   2.33       21.860                  NaN   \n",
       "2014-03-18                   2.30       22.070                  NaN   \n",
       "...                           ...          ...                  ...   \n",
       "2019-03-07                   3.70       19.105                76.80   \n",
       "2019-03-08                   3.69       18.895                76.63   \n",
       "2019-03-10                    NaN          NaN                  NaN   \n",
       "2019-03-11                   3.66       19.135                77.81   \n",
       "2019-03-12                   3.65       19.115                78.24   \n",
       "\n",
       "Name        ABBVIE INC  ABC-MART INC  ABERCROMBIE & FITCH CO-CL A  ...  \\\n",
       "Date                                                               ...   \n",
       "2014-03-12         NaN        4385.0                          NaN  ...   \n",
       "2014-03-13         NaN        4385.0                          NaN  ...   \n",
       "2014-03-14         NaN        4260.0                          NaN  ...   \n",
       "2014-03-17         NaN        4230.0                          NaN  ...   \n",
       "2014-03-18         NaN        4295.0                          NaN  ...   \n",
       "...                ...           ...                          ...  ...   \n",
       "2019-03-07       78.24        6570.0                         9.87  ...   \n",
       "2019-03-08       77.58        6490.0                         9.42  ...   \n",
       "2019-03-10         NaN           NaN                          NaN  ...   \n",
       "2019-03-11       78.08        6510.0                         9.89  ...   \n",
       "2019-03-12       78.74        6550.0                        10.32  ...   \n",
       "\n",
       "Name        Yamato Holdings Co Ltd  Yuanta Financial Holding Co Lt  \\\n",
       "Date                                                                 \n",
       "2014-03-12                  2187.0                           15.25   \n",
       "2014-03-13                  2150.0                           15.30   \n",
       "2014-03-14                  2083.0                           15.15   \n",
       "2014-03-17                  2065.0                           15.00   \n",
       "2014-03-18                  2060.0                           15.65   \n",
       "...                            ...                             ...   \n",
       "2019-03-07                  2949.0                           17.60   \n",
       "2019-03-08                  2908.0                           17.40   \n",
       "2019-03-10                     NaN                             NaN   \n",
       "2019-03-11                  2949.0                           17.45   \n",
       "2019-03-12                  2973.0                           17.65   \n",
       "\n",
       "Name        ZENKOKU HOSHO CO LTD  ZEON CORP  ZIONS BANCORPORATION  ZOETIS INC  \\\n",
       "Date                                                                            \n",
       "2014-03-12                2470.0      957.0                   NaN         NaN   \n",
       "2014-03-13                2408.0      954.0                   NaN         NaN   \n",
       "2014-03-14                2353.0      920.0                   NaN         NaN   \n",
       "2014-03-17                2414.0      901.0                   NaN         NaN   \n",
       "2014-03-18                2546.0      912.0                   NaN         NaN   \n",
       "...                          ...        ...                   ...         ...   \n",
       "2019-03-07                4165.0     1135.0                100.35       96.27   \n",
       "2019-03-08                4085.0     1080.0                 99.96       96.84   \n",
       "2019-03-10                   NaN        NaN                   NaN         NaN   \n",
       "2019-03-11                4115.0     1092.0                100.82       99.09   \n",
       "2019-03-12                4165.0     1131.0                101.01      100.43   \n",
       "\n",
       "Name        Zensho Holdings Co Ltd  Zimmer Biomet Holdings Inc  \\\n",
       "Date                                                             \n",
       "2014-03-12                  1057.0                         NaN   \n",
       "2014-03-13                  1006.0                         NaN   \n",
       "2014-03-14                   999.0                         NaN   \n",
       "2014-03-17                   999.0                         NaN   \n",
       "2014-03-18                  1003.0                         NaN   \n",
       "...                            ...                         ...   \n",
       "2019-03-07                  2669.0                      170.37   \n",
       "2019-03-08                  2642.0                      169.03   \n",
       "2019-03-10                     NaN                         NaN   \n",
       "2019-03-11                  2647.0                      172.09   \n",
       "2019-03-12                  2649.0                      171.05   \n",
       "\n",
       "Name        Zurich Insurance Group AG  kyowa Hakko Kirin Co Ltd  \n",
       "Date                                                             \n",
       "2014-03-12                      266.8                    1069.0  \n",
       "2014-03-13                      264.8                    1068.0  \n",
       "2014-03-14                      261.9                    1023.0  \n",
       "2014-03-17                      262.5                    1013.0  \n",
       "2014-03-18                      263.5                    1024.0  \n",
       "...                               ...                       ...  \n",
       "2019-03-07                      326.4                    2274.0  \n",
       "2019-03-08                      325.8                    2255.0  \n",
       "2019-03-10                        NaN                       NaN  \n",
       "2019-03-11                      327.1                    2262.0  \n",
       "2019-03-12                      327.5                    2291.0  \n",
       "\n",
       "[1442 rows x 2013 columns]"
      ]
     },
     "execution_count": 115,
     "metadata": {},
     "output_type": "execute_result"
    }
   ],
   "source": [
    "df_filtered=dfpivot.loc[:,(dfpivot.notna().cumsum().shift().apply(lambda x: x.value_counts()).fillna(0)<15).all()]\n",
    "df_filtered"
   ]
  },
  {
   "cell_type": "markdown",
   "metadata": {},
   "source": [
    "Après quelques tests, on se rend compte d'irrégularités \"régulières\", notamment durant les deux premiers mois, puis aux alentours de la 190e valeur. Cela nous conduit à penser que ces actifs disposent d'une caractéristique commune, on pense notamment à la place boursière. \n",
    "\n",
    "A travers les exemples ci-dessous, notre hypothèse semble être validée. Nous avons principalement du NYSE et un actif échangé sur NASDAQ. Nous avons confirmé par une recherche en ligne que la cotation n'a pas réellement été suspendue en mars 2014."
   ]
  },
  {
   "cell_type": "code",
   "execution_count": 131,
   "metadata": {},
   "outputs": [
    {
     "data": {
      "text/plain": [
       "0      12\n",
       "191    10\n",
       "4       9\n",
       "7       8\n",
       "1       5\n",
       "2       5\n",
       "200     4\n",
       "161     4\n",
       "144     3\n",
       "532     3\n",
       "Name: 3M CO, dtype: int64"
      ]
     },
     "execution_count": 131,
     "metadata": {},
     "output_type": "execute_result"
    }
   ],
   "source": [
    "dfpivot['3M CO'].notna().cumsum().value_counts().head(10) #NYSE"
   ]
  },
  {
   "cell_type": "code",
   "execution_count": 126,
   "metadata": {},
   "outputs": [
    {
     "data": {
      "text/plain": [
       "0      12\n",
       "190    10\n",
       "4       9\n",
       "7       8\n",
       "163     5\n",
       "       ..\n",
       "804     1\n",
       "805     1\n",
       "806     1\n",
       "807     1\n",
       "622     1\n",
       "Name: ABBOTT LABORATORIES, Length: 1246, dtype: int64"
      ]
     },
     "execution_count": 126,
     "metadata": {},
     "output_type": "execute_result"
    }
   ],
   "source": [
    "dfpivot['ABBOTT LABORATORIES'].notna().cumsum().value_counts() #NYSE"
   ]
  },
  {
   "cell_type": "code",
   "execution_count": 127,
   "metadata": {},
   "outputs": [
    {
     "data": {
      "text/plain": [
       "0       12\n",
       "194     10\n",
       "4        9\n",
       "7        8\n",
       "167      5\n",
       "        ..\n",
       "749      1\n",
       "748      1\n",
       "747      1\n",
       "746      1\n",
       "1250     1\n",
       "Name: ABBVIE INC, Length: 1251, dtype: int64"
      ]
     },
     "execution_count": 127,
     "metadata": {},
     "output_type": "execute_result"
    }
   ],
   "source": [
    "dfpivot['ABBVIE INC'].notna().cumsum().value_counts() #NYSE"
   ]
  },
  {
   "cell_type": "code",
   "execution_count": 128,
   "metadata": {},
   "outputs": [
    {
     "data": {
      "text/plain": [
       "0      12\n",
       "190    10\n",
       "4       9\n",
       "7       8\n",
       "210     6\n",
       "       ..\n",
       "781     1\n",
       "780     1\n",
       "779     1\n",
       "778     1\n",
       "610     1\n",
       "Name: ZOETIS INC, Length: 1221, dtype: int64"
      ]
     },
     "execution_count": 128,
     "metadata": {},
     "output_type": "execute_result"
    }
   ],
   "source": [
    "dfpivot['ZOETIS INC'].notna().cumsum().value_counts() #NYSE"
   ]
  },
  {
   "cell_type": "code",
   "execution_count": 129,
   "metadata": {},
   "outputs": [
    {
     "data": {
      "text/plain": [
       "0      12\n",
       "189    10\n",
       "4       9\n",
       "7       8\n",
       "209     6\n",
       "       ..\n",
       "774     1\n",
       "770     1\n",
       "769     1\n",
       "767     1\n",
       "606     1\n",
       "Name: ZIONS BANCORPORATION, Length: 1214, dtype: int64"
      ]
     },
     "execution_count": 129,
     "metadata": {},
     "output_type": "execute_result"
    }
   ],
   "source": [
    "dfpivot['ZIONS BANCORPORATION'].notna().cumsum().value_counts() #NASDAQ"
   ]
  },
  {
   "cell_type": "markdown",
   "metadata": {},
   "source": [
    "**Conclusion :** le jeu de données n'est pas propre. Dès lors nous envisageons deux solutions : soit on élimine ces colonnes entièrement (au risque de ne considérer aucun actif de certaines places boursières comme NYSE), soit on élimine le premier mois et on remplit artificiellement le reste des valeurs manquantes en se servant de la dernière valeur connue."
   ]
  },
  {
   "cell_type": "markdown",
   "metadata": {},
   "source": [
    "C'est pour ce deuxième choix que nousa allons opter, sachant que nous avons déjà considérablement filtré en supprimant les actifs contenant plus de 15 NA consécutif à travers le df_filtered."
   ]
  },
  {
   "cell_type": "markdown",
   "metadata": {},
   "source": [
    "### Suppression des deux premiers mois"
   ]
  },
  {
   "cell_type": "code",
   "execution_count": 160,
   "metadata": {},
   "outputs": [],
   "source": [
    "finaldf = df_filtered.iloc[45:,:]"
   ]
  },
  {
   "cell_type": "markdown",
   "metadata": {},
   "source": [
    "On confirme qu'un traitement additionnel pour la première ligne n'est pas nécessaire - de manière à toujours avoir une valeur \"précédente\" pour le prochaine traitement."
   ]
  },
  {
   "cell_type": "code",
   "execution_count": 162,
   "metadata": {},
   "outputs": [
    {
     "data": {
      "text/plain": [
       "Name\n",
       "3I GROUP PLC                     0\n",
       "3M CO                            0\n",
       "A2A SpA                          0\n",
       "AAC Technologies Holdings Inc    0\n",
       "ABACUS PROPERTY GROUP            0\n",
       "                                ..\n",
       "ZOETIS INC                       0\n",
       "Zensho Holdings Co Ltd           0\n",
       "Zimmer Biomet Holdings Inc       0\n",
       "Zurich Insurance Group AG        0\n",
       "kyowa Hakko Kirin Co Ltd         0\n",
       "Length: 2013, dtype: int64"
      ]
     },
     "execution_count": 162,
     "metadata": {},
     "output_type": "execute_result"
    }
   ],
   "source": [
    "finaldf.head(1).isna().sum(axis=0)"
   ]
  },
  {
   "cell_type": "markdown",
   "metadata": {},
   "source": [
    "### Remplacement des NA"
   ]
  },
  {
   "cell_type": "code",
   "execution_count": 175,
   "metadata": {},
   "outputs": [
    {
     "name": "stderr",
     "output_type": "stream",
     "text": [
      "C:\\Users\\1s2ad\\anaconda3\\lib\\site-packages\\pandas\\core\\frame.py:4147: SettingWithCopyWarning: \n",
      "A value is trying to be set on a copy of a slice from a DataFrame\n",
      "\n",
      "See the caveats in the documentation: https://pandas.pydata.org/pandas-docs/stable/user_guide/indexing.html#returning-a-view-versus-a-copy\n",
      "  return super().fillna(\n"
     ]
    }
   ],
   "source": [
    "finaldf.fillna(method='ffill', inplace = True)"
   ]
  },
  {
   "cell_type": "code",
   "execution_count": 178,
   "metadata": {},
   "outputs": [
    {
     "data": {
      "text/plain": [
       "0"
      ]
     },
     "execution_count": 178,
     "metadata": {},
     "output_type": "execute_result"
    }
   ],
   "source": [
    "finaldf.isna().sum(axis=1).sum()"
   ]
  },
  {
   "cell_type": "code",
   "execution_count": 179,
   "metadata": {},
   "outputs": [],
   "source": [
    "finaldf.to_csv(\"actifs_pivot.csv\")"
   ]
  },
  {
   "cell_type": "code",
   "execution_count": null,
   "metadata": {},
   "outputs": [],
   "source": []
  }
 ],
 "metadata": {
  "kernelspec": {
   "display_name": "Python 3",
   "language": "python",
   "name": "python3"
  },
  "language_info": {
   "codemirror_mode": {
    "name": "ipython",
    "version": 3
   },
   "file_extension": ".py",
   "mimetype": "text/x-python",
   "name": "python",
   "nbconvert_exporter": "python",
   "pygments_lexer": "ipython3",
   "version": "3.8.3"
  }
 },
 "nbformat": 4,
 "nbformat_minor": 4
}
